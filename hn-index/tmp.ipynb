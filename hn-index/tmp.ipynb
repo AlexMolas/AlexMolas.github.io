{
 "cells": [
  {
   "cell_type": "code",
   "execution_count": null,
   "metadata": {},
   "outputs": [],
   "source": [
    "import requests\n",
    "from tqdm import tqdm\n",
    "url = \"https://hacker-news.firebaseio.com/v0/user/alexmolas.json?print=pretty\"\n",
    "user = requests.get(url).json()\n",
    "\n",
    "scores = []\n",
    "for sub in tqdm(user[\"submitted\"]):\n",
    "    url = f\"https://hacker-news.firebaseio.com/v0/item/{sub}.json\"\n",
    "    item = requests.get(url).json()\n",
    "    if not item.get(\"deleted\") and not item.get(\"dead\") and item[\"type\"] == \"story\":\n",
    "        scores.append(item[\"score\"])"
   ]
  },
  {
   "cell_type": "code",
   "execution_count": 1,
   "metadata": {},
   "outputs": [
    {
     "ename": "RuntimeError",
     "evalue": "Cannot run the event loop while another loop is running",
     "output_type": "error",
     "traceback": [
      "\u001b[0;31m---------------------------------------------------------------------------\u001b[0m",
      "\u001b[0;31mRuntimeError\u001b[0m                              Traceback (most recent call last)",
      "\u001b[1;32m/Users/alexmolas/Documents/workspace/alexmolas.github.io/hn-index/tmp.ipynb Cell 2\u001b[0m line \u001b[0;36m4\n\u001b[1;32m     <a href='vscode-notebook-cell:/Users/alexmolas/Documents/workspace/alexmolas.github.io/hn-index/tmp.ipynb#W1sZmlsZQ%3D%3D?line=40'>41</a>\u001b[0m     \u001b[39mreturn\u001b[39;00m scores\n\u001b[1;32m     <a href='vscode-notebook-cell:/Users/alexmolas/Documents/workspace/alexmolas.github.io/hn-index/tmp.ipynb#W1sZmlsZQ%3D%3D?line=42'>43</a>\u001b[0m username \u001b[39m=\u001b[39m \u001b[39m\"\u001b[39m\u001b[39malexmolas\u001b[39m\u001b[39m\"\u001b[39m\n\u001b[0;32m---> <a href='vscode-notebook-cell:/Users/alexmolas/Documents/workspace/alexmolas.github.io/hn-index/tmp.ipynb#W1sZmlsZQ%3D%3D?line=43'>44</a>\u001b[0m scores_result \u001b[39m=\u001b[39m get_user_scores(username)\n\u001b[1;32m     <a href='vscode-notebook-cell:/Users/alexmolas/Documents/workspace/alexmolas.github.io/hn-index/tmp.ipynb#W1sZmlsZQ%3D%3D?line=44'>45</a>\u001b[0m \u001b[39mprint\u001b[39m(\u001b[39mf\u001b[39m\u001b[39m\"\u001b[39m\u001b[39m{\u001b[39;00musername\u001b[39m}\u001b[39;00m\u001b[39m'\u001b[39m\u001b[39ms scores: \u001b[39m\u001b[39m{\u001b[39;00mscores_result\u001b[39m}\u001b[39;00m\u001b[39m\"\u001b[39m)\n",
      "\u001b[1;32m/Users/alexmolas/Documents/workspace/alexmolas.github.io/hn-index/tmp.ipynb Cell 2\u001b[0m line \u001b[0;36m3\n\u001b[1;32m     <a href='vscode-notebook-cell:/Users/alexmolas/Documents/workspace/alexmolas.github.io/hn-index/tmp.ipynb#W1sZmlsZQ%3D%3D?line=33'>34</a>\u001b[0m loop \u001b[39m=\u001b[39m asyncio\u001b[39m.\u001b[39mnew_event_loop()\n\u001b[1;32m     <a href='vscode-notebook-cell:/Users/alexmolas/Documents/workspace/alexmolas.github.io/hn-index/tmp.ipynb#W1sZmlsZQ%3D%3D?line=34'>35</a>\u001b[0m asyncio\u001b[39m.\u001b[39mset_event_loop(loop)\n\u001b[0;32m---> <a href='vscode-notebook-cell:/Users/alexmolas/Documents/workspace/alexmolas.github.io/hn-index/tmp.ipynb#W1sZmlsZQ%3D%3D?line=36'>37</a>\u001b[0m scores \u001b[39m=\u001b[39m loop\u001b[39m.\u001b[39;49mrun_until_complete(fetch_user_scores(user_url))\n\u001b[1;32m     <a href='vscode-notebook-cell:/Users/alexmolas/Documents/workspace/alexmolas.github.io/hn-index/tmp.ipynb#W1sZmlsZQ%3D%3D?line=38'>39</a>\u001b[0m loop\u001b[39m.\u001b[39mclose()\n\u001b[1;32m     <a href='vscode-notebook-cell:/Users/alexmolas/Documents/workspace/alexmolas.github.io/hn-index/tmp.ipynb#W1sZmlsZQ%3D%3D?line=40'>41</a>\u001b[0m \u001b[39mreturn\u001b[39;00m scores\n",
      "File \u001b[0;32m/opt/homebrew/Cellar/python@3.10/3.10.13/Frameworks/Python.framework/Versions/3.10/lib/python3.10/asyncio/base_events.py:625\u001b[0m, in \u001b[0;36mBaseEventLoop.run_until_complete\u001b[0;34m(self, future)\u001b[0m\n\u001b[1;32m    614\u001b[0m \u001b[39m\u001b[39m\u001b[39m\"\"\"Run until the Future is done.\u001b[39;00m\n\u001b[1;32m    615\u001b[0m \n\u001b[1;32m    616\u001b[0m \u001b[39mIf the argument is a coroutine, it is wrapped in a Task.\u001b[39;00m\n\u001b[0;32m   (...)\u001b[0m\n\u001b[1;32m    622\u001b[0m \u001b[39mReturn the Future's result, or raise its exception.\u001b[39;00m\n\u001b[1;32m    623\u001b[0m \u001b[39m\"\"\"\u001b[39;00m\n\u001b[1;32m    624\u001b[0m \u001b[39mself\u001b[39m\u001b[39m.\u001b[39m_check_closed()\n\u001b[0;32m--> 625\u001b[0m \u001b[39mself\u001b[39;49m\u001b[39m.\u001b[39;49m_check_running()\n\u001b[1;32m    627\u001b[0m new_task \u001b[39m=\u001b[39m \u001b[39mnot\u001b[39;00m futures\u001b[39m.\u001b[39misfuture(future)\n\u001b[1;32m    628\u001b[0m future \u001b[39m=\u001b[39m tasks\u001b[39m.\u001b[39mensure_future(future, loop\u001b[39m=\u001b[39m\u001b[39mself\u001b[39m)\n",
      "File \u001b[0;32m/opt/homebrew/Cellar/python@3.10/3.10.13/Frameworks/Python.framework/Versions/3.10/lib/python3.10/asyncio/base_events.py:586\u001b[0m, in \u001b[0;36mBaseEventLoop._check_running\u001b[0;34m(self)\u001b[0m\n\u001b[1;32m    584\u001b[0m     \u001b[39mraise\u001b[39;00m \u001b[39mRuntimeError\u001b[39;00m(\u001b[39m'\u001b[39m\u001b[39mThis event loop is already running\u001b[39m\u001b[39m'\u001b[39m)\n\u001b[1;32m    585\u001b[0m \u001b[39mif\u001b[39;00m events\u001b[39m.\u001b[39m_get_running_loop() \u001b[39mis\u001b[39;00m \u001b[39mnot\u001b[39;00m \u001b[39mNone\u001b[39;00m:\n\u001b[0;32m--> 586\u001b[0m     \u001b[39mraise\u001b[39;00m \u001b[39mRuntimeError\u001b[39;00m(\n\u001b[1;32m    587\u001b[0m         \u001b[39m'\u001b[39m\u001b[39mCannot run the event loop while another loop is running\u001b[39m\u001b[39m'\u001b[39m)\n",
      "\u001b[0;31mRuntimeError\u001b[0m: Cannot run the event loop while another loop is running"
     ]
    }
   ],
   "source": [
    "import httpx\n",
    "import asyncio\n",
    "from tqdm import tqdm\n",
    "\n",
    "async def fetch_user_data(url):\n",
    "    async with httpx.AsyncClient() as client:\n",
    "        response = await client.get(url)\n",
    "    return response.json()\n",
    "\n",
    "async def fetch_item_data(url, scores):\n",
    "    async with httpx.AsyncClient() as client:\n",
    "        response = await client.get(url)\n",
    "    item = response.json()\n",
    "    if not item.get(\"deleted\") and not item.get(\"dead\") and item[\"type\"] == \"story\":\n",
    "        scores.append(item[\"score\"])\n",
    "\n",
    "\n",
    "\n",
    "async def fetch_user_scores(url):\n",
    "    user = await fetch_user_data(url)\n",
    "\n",
    "    scores = []\n",
    "    item_urls = [f\"https://hacker-news.firebaseio.com/v0/item/{sub}.json\" for sub in user[\"submitted\"]]\n",
    "\n",
    "    tasks = [fetch_item_data(url, scores) for url in item_urls]\n",
    "    await asyncio.gather(*tasks)\n",
    "\n",
    "    return scores\n",
    "\n",
    "\n",
    "def get_user_scores(username):\n",
    "    user_url = f\"https://hacker-news.firebaseio.com/v0/user/{username}.json?print=pretty\"\n",
    "\n",
    "    loop = asyncio.new_event_loop()\n",
    "    asyncio.set_event_loop(loop)\n",
    "\n",
    "    scores = loop.run_until_complete(fetch_user_scores(user_url))\n",
    "\n",
    "    loop.close()\n",
    "\n",
    "    return scores\n",
    "\n",
    "username = \"alexmolas\"\n",
    "scores_result = get_user_scores(username)\n",
    "print(f\"{username}'s scores: {scores_result}\")\n"
   ]
  },
  {
   "cell_type": "code",
   "execution_count": null,
   "metadata": {},
   "outputs": [],
   "source": [
    "item"
   ]
  },
  {
   "cell_type": "code",
   "execution_count": null,
   "metadata": {},
   "outputs": [],
   "source": []
  }
 ],
 "metadata": {
  "kernelspec": {
   "display_name": "venv",
   "language": "python",
   "name": "python3"
  },
  "language_info": {
   "codemirror_mode": {
    "name": "ipython",
    "version": 3
   },
   "file_extension": ".py",
   "mimetype": "text/x-python",
   "name": "python",
   "nbconvert_exporter": "python",
   "pygments_lexer": "ipython3",
   "version": "3.10.13"
  },
  "orig_nbformat": 4
 },
 "nbformat": 4,
 "nbformat_minor": 2
}
